{
 "cells": [
  {
   "cell_type": "code",
   "execution_count": 108,
   "metadata": {},
   "outputs": [
    {
     "name": "stdout",
     "output_type": "stream",
     "text": [
      "2\n"
     ]
    }
   ],
   "source": [
    "#Question 1\n",
    "import numpy as np\n",
    "v1 = np.array([1,6,7,9])\n",
    "v2 = np.array([1, 0, 6, 9])\n",
    "print(np.sum(v1==v2))"
   ]
  },
  {
   "cell_type": "code",
   "execution_count": 109,
   "metadata": {},
   "outputs": [
    {
     "name": "stdout",
     "output_type": "stream",
     "text": [
      "[[83 90 43]\n",
      " [79 49  6]\n",
      " [60 90 62]\n",
      " [92 85 45]\n",
      " [15 21 34]\n",
      " [91  9 58]\n",
      " [69 76 81]\n",
      " [98 46 83]\n",
      " [32 52 49]\n",
      " [ 5 32  4]]\n",
      "(10, 3)\n",
      "10\n",
      "3\n",
      "[[83 90  0]\n",
      " [79 49  1]\n",
      " [60 90  0]\n",
      " [92 85  0]\n",
      " [15 21  1]\n",
      " [91  9  1]\n",
      " [69 76  0]\n",
      " [98 46  1]\n",
      " [32 52  1]\n",
      " [ 5 32  0]]\n"
     ]
    }
   ],
   "source": [
    "#Question 2\n",
    "M = np.random.randint(1,100,30).reshape(10,3)\n",
    "print(M)\n",
    "print(M.shape)\n",
    "print(M.shape[0])\n",
    "print(M.shape[1])\n",
    "for i in range(M.shape[0]):\n",
    "    if((M[i][0]+M[i][1])%4==0):\n",
    "        M[i][2] = 1\n",
    "    else:\n",
    "        M[i][2] = 0\n",
    "print(M)\n"
   ]
  },
  {
   "cell_type": "code",
   "execution_count": 110,
   "metadata": {},
   "outputs": [
    {
     "name": "stdout",
     "output_type": "stream",
     "text": [
      "   X1  X2  Y\n",
      "0  83  90  0\n",
      "1  79  49  1\n",
      "2  60  90  0\n",
      "3  92  85  0\n",
      "4  15  21  1\n",
      "5  91   9  1\n",
      "6  69  76  0\n",
      "7  98  46  1\n",
      "8  32  52  1\n",
      "9   5  32  0\n"
     ]
    }
   ],
   "source": [
    "#Question 3\n",
    "import pandas as pd\n",
    "columns = [\"X1\",\"X2\", \"Y\"]\n",
    "df = pd.DataFrame(M, columns=columns)\n",
    "print(df)"
   ]
  },
  {
   "cell_type": "code",
   "execution_count": 111,
   "metadata": {},
   "outputs": [
    {
     "data": {
      "image/png": "[encoded data removed]",
      "text/plain": [
       "<Figure size 432x288 with 1 Axes>"
      ]
     },
     "metadata": {
      "needs_background": "light"
     },
     "output_type": "display_data"
    }
   ],
   "source": [
    "#Question 4\n",
    "import matplotlib.pyplot as plt\n",
    "col = df.Y.map({0:'b', 1:'r'})\n",
    "df.plot.scatter(x='X1', y='X2',c=col)\n",
    "plt.show()\n",
    "        "
   ]
  },
  {
   "cell_type": "code",
   "execution_count": 112,
   "metadata": {},
   "outputs": [
    {
     "name": "stdout",
     "output_type": "stream",
     "text": [
      "[49, 900, 900, 49, 36, 6724, 49, 2704, 400, 729]\n",
      "12540\n"
     ]
    }
   ],
   "source": [
    "#Question 5\n",
    "Mse= []\n",
    "for i in range(df.shape[0]):\n",
    "    Mse.append(np.square(df.X1.iloc[i]-df.X2.iloc[i]))\n",
    "print(Mse)\n",
    "sum = np.sum(Mse)\n",
    "print(sum)"
   ]
  },
  {
   "cell_type": "code",
   "execution_count": 113,
   "metadata": {},
   "outputs": [
    {
     "name": "stdout",
     "output_type": "stream",
     "text": [
      "41.19465984809196\n",
      "41.19465984809196\n"
     ]
    }
   ],
   "source": [
    "#Question 6\n",
    "a = [df.X1.iloc[0], df.X2.iloc[0]]\n",
    "b = [df.X1.iloc[1], df.X2.iloc[1]]\n",
    "dist = np.sqrt((np.square(a[0]-b[0])+np.square(a[1]-b[1])))\n",
    "distance = np.linalg.norm(np.array(a)-np.array(b))\n",
    "print(dist)\n",
    "print(distance)"
   ]
  },
  {
   "cell_type": "code",
   "execution_count": 114,
   "metadata": {},
   "outputs": [
    {
     "name": "stdout",
     "output_type": "stream",
     "text": [
      "[83 90]\n",
      "[79 49]\n",
      "[60 90]\n",
      "[92 85]\n",
      "[15 21]\n",
      "[91  9]\n",
      "[69 76]\n",
      "[98 46]\n",
      "[32 52]\n",
      "[ 5 32]\n",
      "[114.02192771568107, 84.38009243891595, 100.16985574512923, 116.72617529928752, 17.88854381999832, 84.09518416651456, 94.26027795418386, 99.80981915623332, 53.23532661682466, 27.073972741361768]\n"
     ]
    }
   ],
   "source": [
    "#Question 7 \n",
    "v = np.random.randint(1,10,2).reshape(2,)\n",
    "dist_vector= []\n",
    "for i in range(df.shape[0]):\n",
    "    print(df[['X1','X2']].iloc[i].values.reshape(2,))\n",
    "    dis = np.linalg.norm(df[['X1','X2']].iloc[i].values.reshape(2,)-v)\n",
    "    dist_vector.append(dis)\n",
    "print(dist_vector)"
   ]
  },
  {
   "cell_type": "code",
   "execution_count": 115,
   "metadata": {},
   "outputs": [
    {
     "name": "stdout",
     "output_type": "stream",
     "text": [
      "[[1 2 3]\n",
      " [2 3 4]]\n",
      "[[1 2 3 6]\n",
      " [2 3 4 7]]\n",
      "[[1 2 3 6]\n",
      " [2 3 4 7]\n",
      " [5 6 7 8]]\n"
     ]
    }
   ],
   "source": [
    "#Question 8\n",
    "A = np.array([[1,2,3],[2,3,4]])\n",
    "print(A)\n",
    "C = np.array([6,7])\n",
    "A = np.column_stack((A,C))\n",
    "print(A)\n",
    "D = np.array([5,6,7,8])\n",
    "A = np.vstack((A,D))\n",
    "print(A)"
   ]
  },
  {
   "cell_type": "code",
   "execution_count": 116,
   "metadata": {
    "scrolled": false
   },
   "outputs": [
    {
     "name": "stdout",
     "output_type": "stream",
     "text": [
      "Using user defined function\n",
      "[[  0.           0.          43.41658669]\n",
      " [  0.           1.          53.00943312]\n",
      " [  0.           2.          83.57032966]\n",
      " [  0.           3.          83.38465087]\n",
      " [  0.           4.          79.62411695]\n",
      " [  0.           5.          49.2036584 ]\n",
      " [  0.           6.          52.49761899]\n",
      " [  0.           7.          80.02499609]\n",
      " [  0.           8.          19.6977156 ]\n",
      " [  0.           9.          72.24956747]\n",
      " [  1.           0.           7.07106781]\n",
      " [  1.           1.          40.26164428]\n",
      " [  1.           2.          45.22167622]\n",
      " [  1.           3.          43.68065934]\n",
      " [  1.           4.          38.89730068]\n",
      " [  1.           5.          26.07680962]\n",
      " [  1.           6.          15.        ]\n",
      " [  1.           7.          39.45883931]\n",
      " [  1.           8.          50.96076922]\n",
      " [  1.           9.          76.47875522]\n",
      " [  2.           0.          43.68065934]\n",
      " [  2.           1.          36.89173349]\n",
      " [  2.           2.          78.31347266]\n",
      " [  2.           3.          88.60022573]\n",
      " [  2.           4.          78.31347266]\n",
      " [  2.           5.          39.62322551]\n",
      " [  2.           6.          50.48762225]\n",
      " [  2.           7.          83.81527307]\n",
      " [  2.           8.           9.43398113]\n",
      " [  2.           9.          49.36598019]\n",
      " [  3.           0.          42.05948169]\n",
      " [  3.           1.          58.13776741]\n",
      " [  3.           2.          82.76472679]\n",
      " [  3.           3.          78.00640999]\n",
      " [  3.           4.          77.1621669 ]\n",
      " [  3.           5.          51.73973328]\n",
      " [  3.           6.          51.4781507 ]\n",
      " [  3.           7.          75.32595834]\n",
      " [  3.           8.          29.96664813]\n",
      " [  3.           9.          81.0061726 ]\n",
      " [  4.           0.          63.07138812]\n",
      " [  4.           1.          45.48626166]\n",
      " [  4.           2.          39.05124838]\n",
      " [  4.           3.          77.27871635]\n",
      " [  4.           4.          52.77309921]\n",
      " [  4.           5.          48.41487375]\n",
      " [  4.           6.          55.36244214]\n",
      " [  4.           7.          70.85901495]\n",
      " [  4.           8.          91.80958556]\n",
      " [  4.           9.          63.12685641]\n",
      " [  5.           0.          43.38202393]\n",
      " [  5.           1.          71.42128534]\n",
      " [  5.           2.          38.11823711]\n",
      " [  5.           3.           2.        ]\n",
      " [  5.           4.          24.18677324]\n",
      " [  5.           5.          56.63920903]\n",
      " [  5.           6.          39.20459157]\n",
      " [  5.           7.           6.08276253]\n",
      " [  5.           8.          92.72000863]\n",
      " [  5.           9.         109.658561  ]\n",
      " [  6.           0.          28.16025568]\n",
      " [  6.           1.          33.61547263]\n",
      " [  6.           2.          65.96969001]\n",
      " [  6.           3.          72.42237223]\n",
      " [  6.           4.          64.03124237]\n",
      " [  6.           5.          29.68164416]\n",
      " [  6.           6.          36.05551275]\n",
      " [  6.           7.          67.91170739]\n",
      " [  6.           8.          22.36067977]\n",
      " [  6.           9.          58.54912467]\n",
      " [  7.           0.          26.07680962]\n",
      " [  7.           1.          59.43904441]\n",
      " [  7.           2.          56.40035461]\n",
      " [  7.           3.          39.62322551]\n",
      " [  7.           4.          46.01086828]\n",
      " [  7.           5.          45.27692569]\n",
      " [  7.           6.          31.57530681]\n",
      " [  7.           7.          38.27531842]\n",
      " [  7.           8.          61.58733636]\n",
      " [  7.           9.          94.9368211 ]\n",
      " [  8.           0.          40.19950248]\n",
      " [  8.           1.          10.63014581]\n",
      " [  8.           2.          45.17742799]\n",
      " [  8.           3.          74.20242584]\n",
      " [  8.           4.          53.15072906]\n",
      " [  8.           5.          21.02379604]\n",
      " [  8.           6.          37.        ]\n",
      " [  8.           7.          67.62396025]\n",
      " [  8.           8.          56.61271942]\n",
      " [  8.           9.          38.27531842]\n",
      " [  9.           0.          68.8839604 ]\n",
      " [  9.           1.          44.20407221]\n",
      " [  9.           2.          52.        ]\n",
      " [  9.           3.          89.56003573]\n",
      " [  9.           4.          65.1459899 ]\n",
      " [  9.           5.          51.623638  ]\n",
      " [  9.           6.          62.51399843]\n",
      " [  9.           7.          82.96987405]\n",
      " [  9.           8.          89.19641248]\n",
      " [  9.           9.          52.34500931]]\n",
      "Using inbuilt function [[ 43.41658669  53.00943312  83.57032966  83.38465087  79.62411695\n",
      "   49.2036584   52.49761899  80.02499609  19.6977156   72.24956747]\n",
      " [  7.07106781  40.26164428  45.22167622  43.68065934  38.89730068\n",
      "   26.07680962  15.          39.45883931  50.96076922  76.47875522]\n",
      " [ 43.68065934  36.89173349  78.31347266  88.60022573  78.31347266\n",
      "   39.62322551  50.48762225  83.81527307   9.43398113  49.36598019]\n",
      " [ 42.05948169  58.13776741  82.76472679  78.00640999  77.1621669\n",
      "   51.73973328  51.4781507   75.32595834  29.96664813  81.0061726 ]\n",
      " [ 63.07138812  45.48626166  39.05124838  77.27871635  52.77309921\n",
      "   48.41487375  55.36244214  70.85901495  91.80958556  63.12685641]\n",
      " [ 43.38202393  71.42128534  38.11823711   2.          24.18677324\n",
      "   56.63920903  39.20459157   6.08276253  92.72000863 109.658561  ]\n",
      " [ 28.16025568  33.61547263  65.96969001  72.42237223  64.03124237\n",
      "   29.68164416  36.05551275  67.91170739  22.36067977  58.54912467]\n",
      " [ 26.07680962  59.43904441  56.40035461  39.62322551  46.01086828\n",
      "   45.27692569  31.57530681  38.27531842  61.58733636  94.9368211 ]\n",
      " [ 40.19950248  10.63014581  45.17742799  74.20242584  53.15072906\n",
      "   21.02379604  37.          67.62396025  56.61271942  38.27531842]\n",
      " [ 68.8839604   44.20407221  52.          89.56003573  65.1459899\n",
      "   51.623638    62.51399843  82.96987405  89.19641248  52.34500931]]\n"
     ]
    }
   ],
   "source": [
    "#Question 9\n",
    "from sklearn.metrics.pairwise import euclidean_distances\n",
    "M1 = np.random.randint(1,100,20).reshape(10,2)\n",
    "col = ['X1','X2']\n",
    "df2 = pd.DataFrame(M1, columns=col)\n",
    "Result = []\n",
    "for i in range(df.shape[0]):\n",
    "    for j in range(df2.shape[0]):\n",
    "        temp = []\n",
    "        dist = np.linalg.norm(df[['X1','X2']].iloc[i].values.reshape(2,)-df2.iloc[j].values.reshape(2,))\n",
    "        temp.append(i)\n",
    "        temp.append(j)\n",
    "        temp.append(dist)\n",
    "        Result.append(temp)\n",
    "print(\"Using user defined function\",np.array(Result),sep='\\n')\n",
    "print(\"Using inbuilt function\", np.array(euclidean_distances(df[['X1','X2']],M1)))"
   ]
  },
  {
   "cell_type": "code",
   "execution_count": 117,
   "metadata": {},
   "outputs": [
    {
     "name": "stdout",
     "output_type": "stream",
     "text": [
      "[[  5.           3.           2.        ]\n",
      " [  5.           7.           6.08276253]\n",
      " [  1.           0.           7.07106781]\n",
      " [  2.           8.           9.43398113]\n",
      " [  8.           1.          10.63014581]\n",
      " [  1.           6.          15.        ]\n",
      " [  0.           8.          19.6977156 ]\n",
      " [  8.           5.          21.02379604]\n",
      " [  6.           8.          22.36067977]\n",
      " [  5.           4.          24.18677324]\n",
      " [  1.           5.          26.07680962]\n",
      " [  7.           0.          26.07680962]\n",
      " [  6.           0.          28.16025568]\n",
      " [  6.           5.          29.68164416]\n",
      " [  3.           8.          29.96664813]\n",
      " [  7.           6.          31.57530681]\n",
      " [  6.           1.          33.61547263]\n",
      " [  6.           6.          36.05551275]\n",
      " [  2.           1.          36.89173349]\n",
      " [  8.           6.          37.        ]\n",
      " [  5.           2.          38.11823711]\n",
      " [  8.           9.          38.27531842]\n",
      " [  7.           7.          38.27531842]\n",
      " [  1.           4.          38.89730068]\n",
      " [  4.           2.          39.05124838]\n",
      " [  5.           6.          39.20459157]\n",
      " [  1.           7.          39.45883931]\n",
      " [  2.           5.          39.62322551]\n",
      " [  7.           3.          39.62322551]\n",
      " [  8.           0.          40.19950248]\n",
      " [  1.           1.          40.26164428]\n",
      " [  3.           0.          42.05948169]\n",
      " [  5.           0.          43.38202393]\n",
      " [  0.           0.          43.41658669]\n",
      " [  2.           0.          43.68065934]\n",
      " [  1.           3.          43.68065934]\n",
      " [  9.           1.          44.20407221]\n",
      " [  8.           2.          45.17742799]\n",
      " [  1.           2.          45.22167622]\n",
      " [  7.           5.          45.27692569]\n",
      " [  4.           1.          45.48626166]\n",
      " [  7.           4.          46.01086828]\n",
      " [  4.           5.          48.41487375]\n",
      " [  0.           5.          49.2036584 ]\n",
      " [  2.           9.          49.36598019]\n",
      " [  2.           6.          50.48762225]\n",
      " [  1.           8.          50.96076922]\n",
      " [  3.           6.          51.4781507 ]\n",
      " [  9.           5.          51.623638  ]\n",
      " [  3.           5.          51.73973328]\n",
      " [  9.           2.          52.        ]\n",
      " [  9.           9.          52.34500931]\n",
      " [  0.           6.          52.49761899]\n",
      " [  4.           4.          52.77309921]\n",
      " [  0.           1.          53.00943312]\n",
      " [  8.           4.          53.15072906]\n",
      " [  4.           6.          55.36244214]\n",
      " [  7.           2.          56.40035461]\n",
      " [  8.           8.          56.61271942]\n",
      " [  5.           5.          56.63920903]\n",
      " [  3.           1.          58.13776741]\n",
      " [  6.           9.          58.54912467]\n",
      " [  7.           1.          59.43904441]\n",
      " [  7.           8.          61.58733636]\n",
      " [  9.           6.          62.51399843]\n",
      " [  4.           0.          63.07138812]\n",
      " [  4.           9.          63.12685641]\n",
      " [  6.           4.          64.03124237]\n",
      " [  9.           4.          65.1459899 ]\n",
      " [  6.           2.          65.96969001]\n",
      " [  8.           7.          67.62396025]\n",
      " [  6.           7.          67.91170739]\n",
      " [  9.           0.          68.8839604 ]\n",
      " [  4.           7.          70.85901495]\n",
      " [  5.           1.          71.42128534]\n",
      " [  0.           9.          72.24956747]\n",
      " [  6.           3.          72.42237223]\n",
      " [  8.           3.          74.20242584]\n",
      " [  3.           7.          75.32595834]\n",
      " [  1.           9.          76.47875522]\n",
      " [  3.           4.          77.1621669 ]\n",
      " [  4.           3.          77.27871635]\n",
      " [  3.           3.          78.00640999]\n",
      " [  2.           2.          78.31347266]\n",
      " [  2.           4.          78.31347266]\n",
      " [  0.           4.          79.62411695]\n",
      " [  0.           7.          80.02499609]\n",
      " [  3.           9.          81.0061726 ]\n",
      " [  3.           2.          82.76472679]\n",
      " [  9.           7.          82.96987405]\n",
      " [  0.           3.          83.38465087]\n",
      " [  0.           2.          83.57032966]\n",
      " [  2.           7.          83.81527307]\n",
      " [  2.           3.          88.60022573]\n",
      " [  9.           8.          89.19641248]\n",
      " [  9.           3.          89.56003573]\n",
      " [  4.           8.          91.80958556]\n",
      " [  5.           8.          92.72000863]\n",
      " [  7.           9.          94.9368211 ]\n",
      " [  5.           9.         109.658561  ]]\n"
     ]
    }
   ],
   "source": [
    "#Question 10\n",
    "Result = np.array(Result)\n",
    "print(Result[Result[:,-1].argsort()])"
   ]
  },
  {
   "cell_type": "code",
   "execution_count": 118,
   "metadata": {},
   "outputs": [
    {
     "name": "stdout",
     "output_type": "stream",
     "text": [
      "[[ 0.          0.         43.41658669]\n",
      " [ 0.          1.         53.00943312]\n",
      " [ 0.          2.         83.57032966]\n",
      " [ 0.          3.         83.38465087]\n",
      " [ 0.          4.         79.62411695]\n",
      " [ 0.          5.         49.2036584 ]\n",
      " [ 0.          6.         52.49761899]\n",
      " [ 0.          7.         80.02499609]\n",
      " [ 0.          8.         19.6977156 ]\n",
      " [ 0.          9.         72.24956747]\n",
      " [ 1.          0.          7.07106781]]\n"
     ]
    }
   ],
   "source": [
    "#Question 11\n",
    "k = 11\n",
    "print(Result[:k,:])"
   ]
  },
  {
   "cell_type": "code",
   "execution_count": 119,
   "metadata": {},
   "outputs": [
    {
     "name": "stdout",
     "output_type": "stream",
     "text": [
      "0\n"
     ]
    }
   ],
   "source": [
    "#Question 12\n",
    "from numpy import vstack\n",
    "unique, count = np.unique(Result[:k,:], return_counts=True)\n",
    "a = vstack((unique[:2], count[:2]))\n",
    "if(a[1,0]>a[1,1]):\n",
    "    print(0)\n",
    "else:\n",
    "    print(1)"
   ]
  },
  {
   "cell_type": "code",
   "execution_count": 124,
   "metadata": {},
   "outputs": [
    {
     "name": "stdout",
     "output_type": "stream",
     "text": [
      "768\n",
      "614 154 768\n",
      "[[  5.    103.    108.    ...  39.2     0.305  65.   ]\n",
      " [  3.    182.     74.    ...  30.5     0.345  29.   ]\n",
      " [  5.     96.     74.    ...  33.6     0.997  43.   ]\n",
      " ...\n",
      " [  0.    102.     78.    ...  34.5     0.238  24.   ]\n",
      " [  5.    126.     78.    ...  29.6     0.439  40.   ]\n",
      " [  1.     97.     64.    ...  18.2     0.299  21.   ]]\n",
      "[[78 18]\n",
      " [22 36]]\n",
      "              precision    recall  f1-score   support\n",
      "\n",
      "         0.0       0.78      0.81      0.80        96\n",
      "         1.0       0.67      0.62      0.64        58\n",
      "\n",
      "   micro avg       0.74      0.74      0.74       154\n",
      "   macro avg       0.72      0.72      0.72       154\n",
      "weighted avg       0.74      0.74      0.74       154\n",
      "\n",
      "No of correct predictions =  114.0\n"
     ]
    }
   ],
   "source": [
    "#Part B\n",
    "import pandas as pd\n",
    "#Loading dataset\n",
    "dataset = pd.read_csv('diabetes.csv')\n",
    "\n",
    "dataset.head(10)\n",
    "data = dataset.values\n",
    "print(len(data))\n",
    "#c\n",
    "train, test = data[:614], data[614:]\n",
    "print(len(train),len(test), len(data))\n",
    "#d\n",
    "from sklearn.model_selection import train_test_split  \n",
    "from sklearn.preprocessing import StandardScaler\n",
    "X=data[:,0:8]\n",
    "Y=data[:,8]\n",
    "X_train, X_test, y_train, y_test = train_test_split(X, Y, test_size=0.20)  \n",
    "            \n",
    "\n",
    "print( X_test)\n",
    "\n",
    "scaler=StandardScaler().fit(X_train)              \n",
    "X_train=scaler.transform(X_train)\n",
    "scaler=StandardScaler().fit(X_test)              \n",
    "X_test=scaler.transform(X_test) \n",
    "\n",
    "from sklearn.neighbors import KNeighborsClassifier  \n",
    "classifier = KNeighborsClassifier(n_neighbors=5)  \n",
    "classifier.fit(X_train, y_train)\n",
    "y_pred = classifier.predict(X_test)\n",
    "#The output y_pred is a list of predictions for each sample in the test data. The samples have been categorised as 0 or 1\n",
    "\n",
    "from sklearn.metrics import classification_report, confusion_matrix, accuracy_score\n",
    "print(confusion_matrix(y_test, y_pred))\n",
    "# Confusion matrix prints a matrix containing the details of predictions. In this case class 0 is taken as positive\n",
    "# and class 1 as negative. The matrix contains 4 entries TP, FP, FN, TN. TP means no of samples which were predicted \n",
    "# as 0 and are actually 0, FP means no of samples which were predicted as 0 but are actually 1, FN means no of samples  \n",
    "# which were predicted 1 and are actually 0 and TN means no of samples predicted 1 and actually 1.\n",
    "print(classification_report(y_test,y_pred))\n",
    "# Classification report calculates the precision, recall, f1 score(the harmonic mean of precision and recall) \n",
    "# and support is no of occurence of each class in y_test\n",
    "print(\"No of correct predictions = \",accuracy_score(y_test, y_pred)*len(X_test))"
   ]
  },
  {
   "cell_type": "code",
   "execution_count": 125,
   "metadata": {},
   "outputs": [
    {
     "data": {
      "image/png": "[encoded data removed]",
      "text/plain": [
       "<Figure size 432x288 with 1 Axes>"
      ]
     },
     "metadata": {
      "needs_background": "light"
     },
     "output_type": "display_data"
    }
   ],
   "source": [
    "#part i\n",
    "knn = np.arange(3,17,2)\n",
    "err = []\n",
    "for k in knn:\n",
    "    classifier = KNeighborsClassifier(n_neighbors=k)  \n",
    "    classifier.fit(X_train, y_train)\n",
    "    y_pred = classifier.predict(X_test)\n",
    "    err.append(1-accuracy_score(y_test, y_pred))\n",
    "\n",
    "plt.plot(knn, err)\n",
    "plt.xlabel(\"k value\")\n",
    "plt.ylabel(\"Error\")\n",
    "plt.show()"
   ]
  },
  {
   "cell_type": "code",
   "execution_count": 126,
   "metadata": {
    "scrolled": false
   },
   "outputs": [
    {
     "name": "stdout",
     "output_type": "stream",
     "text": [
      "\n",
      "For k =  3\n",
      "Classification report\n",
      "              precision    recall  f1-score   support\n",
      "\n",
      "         0.0       0.78      0.79      0.79        96\n",
      "         1.0       0.65      0.64      0.64        58\n",
      "\n",
      "   micro avg       0.73      0.73      0.73       154\n",
      "   macro avg       0.72      0.71      0.72       154\n",
      "weighted avg       0.73      0.73      0.73       154\n",
      "\n",
      "Confusion matrix \n",
      "[[76 20]\n",
      " [21 37]]\n",
      "No of correct predictions\n",
      "113.0\n",
      "For k =  5\n",
      "Classification report\n",
      "              precision    recall  f1-score   support\n",
      "\n",
      "         0.0       0.78      0.81      0.80        96\n",
      "         1.0       0.67      0.62      0.64        58\n",
      "\n",
      "   micro avg       0.74      0.74      0.74       154\n",
      "   macro avg       0.72      0.72      0.72       154\n",
      "weighted avg       0.74      0.74      0.74       154\n",
      "\n",
      "Confusion matrix \n",
      "[[78 18]\n",
      " [22 36]]\n",
      "No of correct predictions\n",
      "114.0\n",
      "For k =  7\n",
      "Classification report\n",
      "              precision    recall  f1-score   support\n",
      "\n",
      "         0.0       0.78      0.84      0.81        96\n",
      "         1.0       0.70      0.60      0.65        58\n",
      "\n",
      "   micro avg       0.75      0.75      0.75       154\n",
      "   macro avg       0.74      0.72      0.73       154\n",
      "weighted avg       0.75      0.75      0.75       154\n",
      "\n",
      "Confusion matrix \n",
      "[[81 15]\n",
      " [23 35]]\n",
      "No of correct predictions\n",
      "116.0\n",
      "For k =  9\n",
      "Classification report\n",
      "              precision    recall  f1-score   support\n",
      "\n",
      "         0.0       0.79      0.84      0.81        96\n",
      "         1.0       0.71      0.62      0.66        58\n",
      "\n",
      "   micro avg       0.76      0.76      0.76       154\n",
      "   macro avg       0.75      0.73      0.74       154\n",
      "weighted avg       0.76      0.76      0.76       154\n",
      "\n",
      "Confusion matrix \n",
      "[[81 15]\n",
      " [22 36]]\n",
      "No of correct predictions\n",
      "117.0\n",
      "For k =  11\n",
      "Classification report\n",
      "              precision    recall  f1-score   support\n",
      "\n",
      "         0.0       0.79      0.88      0.83        96\n",
      "         1.0       0.75      0.62      0.68        58\n",
      "\n",
      "   micro avg       0.78      0.78      0.78       154\n",
      "   macro avg       0.77      0.75      0.76       154\n",
      "weighted avg       0.78      0.78      0.77       154\n",
      "\n",
      "Confusion matrix \n",
      "[[84 12]\n",
      " [22 36]]\n",
      "No of correct predictions\n",
      "120.0\n",
      "For k =  13\n",
      "Classification report\n",
      "              precision    recall  f1-score   support\n",
      "\n",
      "         0.0       0.77      0.86      0.81        96\n",
      "         1.0       0.72      0.57      0.63        58\n",
      "\n",
      "   micro avg       0.75      0.75      0.75       154\n",
      "   macro avg       0.74      0.72      0.72       154\n",
      "weighted avg       0.75      0.75      0.75       154\n",
      "\n",
      "Confusion matrix \n",
      "[[83 13]\n",
      " [25 33]]\n",
      "No of correct predictions\n",
      "116.0\n",
      "For k =  15\n",
      "Classification report\n",
      "              precision    recall  f1-score   support\n",
      "\n",
      "         0.0       0.74      0.88      0.80        96\n",
      "         1.0       0.71      0.50      0.59        58\n",
      "\n",
      "   micro avg       0.73      0.73      0.73       154\n",
      "   macro avg       0.73      0.69      0.69       154\n",
      "weighted avg       0.73      0.73      0.72       154\n",
      "\n",
      "Confusion matrix \n",
      "[[84 12]\n",
      " [29 29]]\n",
      "No of correct predictions\n",
      "113.0\n"
     ]
    },
    {
     "data": {
      "image/png": "[encoded data removed]",
      "text/plain": [
       "<Figure size 432x288 with 1 Axes>"
      ]
     },
     "metadata": {
      "needs_background": "light"
     },
     "output_type": "display_data"
    }
   ],
   "source": [
    "from sklearn.metrics.pairwise import euclidean_distances\n",
    "\n",
    "distance_matrix = euclidean_distances(X_test, X_train)\n",
    "\n",
    "print()\n",
    "y_pred = []\n",
    "err1 = []\n",
    "for k in knn:\n",
    "    y_pred=[]\n",
    "    for i in range(len(X_test)):\n",
    "        class0 = 0\n",
    "        class1 = 0\n",
    "        distances = np.sort(distance_matrix[i,:], kind='quicksort')\n",
    "        k_nearest = distances[:k]\n",
    "        for j in k_nearest:\n",
    "            temp = y_train[np.where(distance_matrix[i,:]==j)]\n",
    "            if(temp==0):\n",
    "                class0 = class0 + 1\n",
    "            else:\n",
    "                class1 = class1 + 1\n",
    "        if(class0>class1):\n",
    "            y_pred.append(0)\n",
    "        else:\n",
    "            y_pred.append(1)\n",
    "    err1.append(1-accuracy_score(y_test,y_pred))\n",
    "    print(\"For k = \", k)\n",
    "    print(\"Classification report\")\n",
    "    print(classification_report(y_test, y_pred))\n",
    "    print(\"Confusion matrix \")\n",
    "    print(confusion_matrix(y_test, y_pred))\n",
    "    print(\"No of correct predictions\")\n",
    "    print(accuracy_score(y_test, y_pred)*len(X_test))\n",
    "plt.plot(knn, err1)\n",
    "plt.xlabel(\"k value\")\n",
    "plt.ylabel(\"Error\")\n",
    "plt.show()\n",
    "\n",
    "#On comparison we can see that the results from the python knn and user defined knn are the same"
   ]
  },
  {
   "cell_type": "code",
   "execution_count": null,
   "metadata": {},
   "outputs": [],
   "source": []
  }
 ],
 "metadata": {
  "kernelspec": {
   "display_name": "Python 3",
   "language": "python",
   "name": "python3"
  },
  "language_info": {
   "codemirror_mode": {
    "name": "ipython",
    "version": 3
   },
   "file_extension": ".py",
   "mimetype": "text/x-python",
   "name": "python",
   "nbconvert_exporter": "python",
   "pygments_lexer": "ipython3",
   "version": "3.7.4"
  }
 },
 "nbformat": 4,
 "nbformat_minor": 2
}
